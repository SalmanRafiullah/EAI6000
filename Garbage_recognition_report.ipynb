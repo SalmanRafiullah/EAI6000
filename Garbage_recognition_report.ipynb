{
  "nbformat": 4,
  "nbformat_minor": 0,
  "metadata": {
    "colab": {
      "name": "Garbage_recognition_report.ipynb",
      "provenance": [],
      "include_colab_link": true
    },
    "kernelspec": {
      "name": "python3",
      "display_name": "Python 3"
    }
  },
  "cells": [
    {
      "cell_type": "markdown",
      "metadata": {
        "id": "view-in-github",
        "colab_type": "text"
      },
      "source": [
        "<a href=\"https://colab.research.google.com/github/SalmanRafiullah/EAI6000/blob/master/Garbage_recognition_report.ipynb\" target=\"_parent\"><img src=\"https://colab.research.google.com/assets/colab-badge.svg\" alt=\"Open In Colab\"/></a>"
      ]
    },
    {
      "cell_type": "markdown",
      "metadata": {
        "id": "54ax41ZpjwLg",
        "colab_type": "text"
      },
      "source": [
        "## EAI6000 capstone project\n",
        "\n",
        "Group members: \\\n",
        "Fedor Grab \\\n",
        "Salman Rafiullah \\\n",
        "Jing Lou\n",
        "\n",
        "## Goal:\n",
        "Classify which type of garbage is provided on the image. This is an image recognition task\n",
        "\n",
        "Publicy available [dataset](https://www.kaggle.com/asdasdasasdas/garbage-classification)\n",
        "\n",
        "It consists of 6 different classes of garbage: cardboard (393), glass (491), metal (400), paper(584), plastic (472) and trash(127). Summary 2467 images.\n"
      ]
    },
    {
      "cell_type": "markdown",
      "metadata": {
        "id": "QARGuJyR173a",
        "colab_type": "text"
      },
      "source": [
        "To solve this task it is a good idea to use [Transfer Learning (TL)](https://machinelearningmastery.com/how-to-use-transfer-learning-when-developing-convolutional-neural-network-models/). TL is a technique when already developed and trained models for a one type of classification problem are used to solve different classification problem. \n",
        "\n",
        "Three of the most popular models are as follows:\n",
        "\n",
        "* VGG (e.g. [VGG16](https://www.kaggle.com/keras/vgg16) or [VGG19](https://www.kaggle.com/keras/vgg19)).\n",
        "* GoogLeNet (e.g. [InceptionV3](https://software.intel.com/en-us/articles/inception-v3-deep-convolutional-architecture-for-classifying-acute-myeloidlymphoblastic)).\n",
        "* Residual Network (e.g. [ResNet50](https://www.kaggle.com/keras/resnet50)).\n",
        "\n",
        "## Plan:\n",
        "1. Load dataset of garbage images \n",
        "2. Prepare data:\n",
        "    * Change the input shapes of data to be consistent\n",
        "    * Normilize it\n",
        "    * Prepare classification labels array\n",
        "    * Split data on train and split sets\n",
        "\n",
        "2. Implement a few different models and try to fit model to it\n",
        "4. Choose the best model\n",
        "5. Classify test data and count model accuracy\n",
        "6. Summarize the work with some insights, explain how it is could be implemented in a real-world problem\n",
        "\n",
        "By the end of the project we expect a Neural Network model classifying a garbage to one of the 6 given above garbage type with accuracy more than 90%. It can be a complicated challenge due to the fact that provided dataset seems to be difficult to classify. Also number of images"
      ]
    },
    {
      "cell_type": "code",
      "metadata": {
        "id": "MQmfQrBd4eZE",
        "colab_type": "code",
        "colab": {}
      },
      "source": [
        ""
      ],
      "execution_count": 0,
      "outputs": []
    }
  ]
}