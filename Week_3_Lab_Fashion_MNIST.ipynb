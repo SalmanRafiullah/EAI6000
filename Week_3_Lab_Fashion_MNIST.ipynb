{
  "nbformat": 4,
  "nbformat_minor": 0,
  "metadata": {
    "colab": {
      "name": "Week 3 Lab - Fashion MNIST.ipynb",
      "provenance": [],
      "private_outputs": true,
      "collapsed_sections": [],
      "toc_visible": true,
      "include_colab_link": true
    },
    "kernelspec": {
      "display_name": "Python 3",
      "name": "python3"
    }
  },
  "cells": [
    {
      "cell_type": "markdown",
      "metadata": {
        "id": "view-in-github",
        "colab_type": "text"
      },
      "source": [
        "<a href=\"https://colab.research.google.com/github/SalmanRafiullah/EAI6000/blob/master/Week_3_Lab_Fashion_MNIST.ipynb\" target=\"_parent\"><img src=\"https://colab.research.google.com/assets/colab-badge.svg\" alt=\"Open In Colab\"/></a>"
      ]
    },
    {
      "cell_type": "markdown",
      "metadata": {
        "colab_type": "text",
        "id": "FbVhjPpzn6BM"
      },
      "source": [
        "In this lab we will train a neural network model to classify images of clothing. \n",
        "\n",
        "The lab is designed to be run using Google Colab, but also can be run as a normal jupyter notebook with minor modifications.\n",
        "\n",
        "This lab uses [tf.keras](https://www.tensorflow.org/guide/keras), a high-level API to build and train models in TensorFlow."
      ]
    },
    {
      "cell_type": "code",
      "metadata": {
        "colab_type": "code",
        "id": "jL3OqFKZ9dFg",
        "colab": {}
      },
      "source": [
        "try:\n",
        "  # %tensorflow_version only exists in Colab.\n",
        "  %tensorflow_version 2.x\n",
        "except Exception:\n",
        "  pass\n"
      ],
      "execution_count": 0,
      "outputs": []
    },
    {
      "cell_type": "code",
      "metadata": {
        "colab_type": "code",
        "id": "dzLKpmZICaWN",
        "colab": {}
      },
      "source": [
        "from __future__ import absolute_import, division, print_function, unicode_literals\n",
        "\n",
        "# TensorFlow and tf.keras\n",
        "import tensorflow as tf\n",
        "from tensorflow import keras\n",
        "\n",
        "# Helper libraries\n",
        "import numpy as np\n",
        "import matplotlib.pyplot as plt\n",
        "from random import randint\n",
        "from keras import utils\n",
        "from sklearn.metrics import confusion_matrix\n",
        "from tensorflow.keras import layers\n",
        "\n",
        "\n",
        "\n",
        "print(tf.__version__)"
      ],
      "execution_count": 0,
      "outputs": []
    },
    {
      "cell_type": "markdown",
      "metadata": {
        "colab_type": "text",
        "id": "yR0EdgrLCaWR"
      },
      "source": [
        "## Import the Fashion MNIST dataset"
      ]
    },
    {
      "cell_type": "code",
      "metadata": {
        "colab_type": "code",
        "id": "7MqDQO0KCaWS",
        "colab": {}
      },
      "source": [
        "fashion_mnist = keras.datasets.fashion_mnist\n",
        "\n",
        "(train_images, train_labels), (test_images, test_labels) = fashion_mnist.load_data()\n",
        "\n",
        "class_names = ['T-shirt/top', 'Trouser', 'Pullover', 'Dress', 'Coat',\n",
        "               'Sandal', 'Shirt', 'Sneaker', 'Bag', 'Ankle boot']\n",
        "\n",
        "# Creating a dictionary of classses mapping class numbers to class labels\n",
        "my_dict = dict(zip(np.arange(10),list(class_names)))"
      ],
      "execution_count": 0,
      "outputs": []
    },
    {
      "cell_type": "markdown",
      "metadata": {
        "colab_type": "text",
        "id": "t9FDsUlxCaWW"
      },
      "source": [
        "Examine the dataset size.\n",
        "1. What are the sizes of each image? \n",
        "2. How many categories are there?\n",
        "3. How many images are there in the test and training sets?\n",
        "4. What are the range of values for the images? "
      ]
    },
    {
      "cell_type": "code",
      "metadata": {
        "colab_type": "code",
        "id": "IjnLH5S2CaWx",
        "colab": {}
      },
      "source": [
        "print(f'The size of each image is {train_images[randint(0,60000)].size} with a shape of {train_images[5].shape}.')"
      ],
      "execution_count": 0,
      "outputs": []
    },
    {
      "cell_type": "code",
      "metadata": {
        "id": "6ZZSjl_xdBA2",
        "colab_type": "code",
        "colab": {}
      },
      "source": [
        "print(f'There are {np.unique(train_labels).size} categories.')"
      ],
      "execution_count": 0,
      "outputs": []
    },
    {
      "cell_type": "code",
      "metadata": {
        "id": "Y6ADqHZJdjPY",
        "colab_type": "code",
        "colab": {}
      },
      "source": [
        "print(f'There are  {len(train_images)} images in the training set.')\n",
        "print(f'There are  {len(test_images)} images in the test set.')\n"
      ],
      "execution_count": 0,
      "outputs": []
    },
    {
      "cell_type": "code",
      "metadata": {
        "id": "WLDtOMl7e-jQ",
        "colab_type": "code",
        "colab": {}
      },
      "source": [
        "Val_min, Val_max = np.amin(train_images), np.max(train_images)\n",
        "print(f'The range of the array is from {Val_min} to {Val_max}.')"
      ],
      "execution_count": 0,
      "outputs": []
    },
    {
      "cell_type": "markdown",
      "metadata": {
        "colab_type": "text",
        "id": "ES6uQoLKCaWr"
      },
      "source": [
        "Preprocess the data by scaling the pixel values of all images to fall between 0 and 1."
      ]
    },
    {
      "cell_type": "code",
      "metadata": {
        "colab_type": "code",
        "id": "bW5WzIPlCaWv",
        "colab": {}
      },
      "source": [
        "# Since values range from 0 to 255, dividing the features by 255 to resize them between 0 and 1\n",
        "x_train = train_images.reshape(60000, 784).astype('float32')/255\n",
        "x_test = test_images.reshape(10000, 784).astype('float32')/255\n",
        "\n",
        "# Converting the dependant variable to float\n",
        "y_train = train_labels.astype('float32')\n",
        "y_test = test_labels.astype('float32')"
      ],
      "execution_count": 0,
      "outputs": []
    },
    {
      "cell_type": "markdown",
      "metadata": {
        "colab_type": "text",
        "id": "Ee638AlnCaWz"
      },
      "source": [
        "To verify that the data is in the correct format  display the first 10 images from the *training set* and display the class name below each image.\n"
      ]
    },
    {
      "cell_type": "code",
      "metadata": {
        "colab_type": "code",
        "id": "oZTImqg_CaW1",
        "colab": {}
      },
      "source": [
        "fig, axes = plt.subplots(1,10, figsize=(25,10))\n",
        "for i in range(10):\n",
        "  axes[i].imshow(x_train[i].reshape(28,28), cmap=plt.cm.gray_r)\n",
        "  axes[i].set_xlabel(class_names[int(train_labels[i])])\n",
        "  axes[i].set_xticks(())\n",
        "  axes[i].set_yticks(())\n",
        "plt.show()"
      ],
      "execution_count": 0,
      "outputs": []
    },
    {
      "cell_type": "markdown",
      "metadata": {
        "colab_type": "text",
        "id": "59veuiEZCaW4"
      },
      "source": [
        "## Build the model\n",
        "\n",
        "Using Keras, build a neural network with a single hidden layer consisting of 64 neurons. Remember that you will either have to reshape the image data into 1D vectors, or use a flatten layer at the input.\n",
        "1. Set up the model layers\n",
        "2. Compile the model \n",
        "3. Print the model summary"
      ]
    },
    {
      "cell_type": "code",
      "metadata": {
        "colab_type": "code",
        "id": "9ODch-OFCaW4",
        "colab": {}
      },
      "source": [
        "inputs = keras.Input(shape=(784,), name='digits')\n",
        "x = layers.Dense(64, activation='relu', name='dense_1')(inputs)\n",
        "x = layers.Dense(64, activation='relu', name='dense_2')(x)\n",
        "outputs = layers.Dense(10, name='predictions')(x)\n",
        "\n",
        "model = keras.Model(inputs=inputs, outputs=outputs)"
      ],
      "execution_count": 0,
      "outputs": []
    },
    {
      "cell_type": "code",
      "metadata": {
        "colab_type": "code",
        "id": "Lhan11blCaW7",
        "colab": {}
      },
      "source": [
        "model.compile(optimizer=keras.optimizers.RMSprop(),\n",
        "              loss=keras.losses.SparseCategoricalCrossentropy(from_logits=True),\n",
        "              metrics=['sparse_categorical_accuracy'])"
      ],
      "execution_count": 0,
      "outputs": []
    },
    {
      "cell_type": "code",
      "metadata": {
        "id": "D_6kqD9la-wb",
        "colab_type": "code",
        "colab": {}
      },
      "source": [
        "model.summary()"
      ],
      "execution_count": 0,
      "outputs": []
    },
    {
      "cell_type": "markdown",
      "metadata": {
        "colab_type": "text",
        "id": "qKF6uW-BCaW-"
      },
      "source": [
        "## Train the model\n",
        "\n",
        "Train the model on the training images for 20 epochs.\n",
        "\n",
        "\n"
      ]
    },
    {
      "cell_type": "code",
      "metadata": {
        "colab_type": "code",
        "id": "xvwvpA64CaW_",
        "colab": {}
      },
      "source": [
        "print('# Fit model on training data')\n",
        "history = model.fit(x_train, y_train,\n",
        "                    batch_size=64,\n",
        "                    epochs=20)\n",
        "\n",
        "print('\\nhistory dict:', history.history)"
      ],
      "execution_count": 0,
      "outputs": []
    },
    {
      "cell_type": "markdown",
      "metadata": {
        "colab_type": "text",
        "id": "wCpr6DGyE28h"
      },
      "source": [
        "Evaluate the accuracy of the model on the test dataset. How does it compare with the training accuracy? Is it likely overfitting or underfitting?"
      ]
    },
    {
      "cell_type": "code",
      "metadata": {
        "colab_type": "code",
        "id": "VflXLEeECaXC",
        "colab": {}
      },
      "source": [
        "print('# Accuracy of model on test dataset\\n')\n",
        "results = model.evaluate(x_test,y_test,batch_size=64)\n",
        "print(results)"
      ],
      "execution_count": 0,
      "outputs": []
    },
    {
      "cell_type": "markdown",
      "metadata": {
        "colab_type": "text",
        "id": "yWfgsmVXCaXG"
      },
      "source": [
        "\n",
        "\n",
        "> The model has a lower accuracy and a higher loss on the test dataset than the training dataset. The model is likely overfitting on the training dataset.\n"
      ]
    },
    {
      "cell_type": "code",
      "metadata": {
        "id": "JTzXlkXUIG68",
        "colab_type": "code",
        "colab": {}
      },
      "source": [
        "# Re train the model with dropout to avoid overfitting and have equal accuracy and loss in training and test datasets\n",
        "inputs = keras.Input(shape=(784,), name='digits')\n",
        "x = layers.Dense(64, activation='relu', name='dense_11')(inputs)\n",
        "# Setting dropout as 0.4 after iteratively running the model for various values\n",
        "x = layers.Dropout(0.4)(x)\n",
        "x = layers.Dense(64, activation='relu', name='dense_21')(x)\n",
        "x = layers.Dropout(0.4)(x)\n",
        "outputs = layers.Dense(10, name='predictions')(x)\n",
        "model1 = keras.Model(inputs=inputs, outputs=outputs)\n",
        "\n",
        "model1.compile(optimizer=keras.optimizers.RMSprop(),\n",
        "              loss=keras.losses.SparseCategoricalCrossentropy(from_logits=True),\n",
        "              metrics=['sparse_categorical_accuracy'])\n",
        "\n",
        "history = model1.fit(x_train, y_train,\n",
        "                    batch_size=64,\n",
        "                    epochs=20)\n",
        "print(f'\\n {history.history}')\n",
        "\n",
        "print('\\n# Accuracy of model on test dataset\\n')\n",
        "results = model1.evaluate(x_test,y_test,batch_size=64)\n",
        "print(results)"
      ],
      "execution_count": 0,
      "outputs": []
    },
    {
      "cell_type": "markdown",
      "metadata": {
        "colab_type": "text",
        "id": "v-PyD1SYE28q"
      },
      "source": [
        "### Make predictions\n",
        "\n",
        "The outputs layer of the model contains predictions about the classification for each image. "
      ]
    },
    {
      "cell_type": "code",
      "metadata": {
        "colab_type": "code",
        "id": "DnfNA0CrQLSD",
        "colab": {}
      },
      "source": [
        "probability_model = tf.keras.Sequential([model1, tf.keras.layers.Softmax()])\n",
        "class_predictions = model1.predict(x_test)\n",
        "prediction_probabilities = probability_model.predict(x_test)\n",
        "y_pred = np.argmax(class_predictions,axis=-1)"
      ],
      "execution_count": 0,
      "outputs": []
    },
    {
      "cell_type": "markdown",
      "metadata": {
        "colab_type": "text",
        "id": "x9Kk1voUCaXJ"
      },
      "source": [
        "Examine the shape of the variable 'prediction_probabilities'. How is it different from class_predictions? What do the dimensions correspond to?"
      ]
    },
    {
      "cell_type": "code",
      "metadata": {
        "id": "MNQrlYsXk9y2",
        "colab_type": "code",
        "colab": {}
      },
      "source": [
        "print(f'The shape of class_predictions is : {class_predictions.shape}')\n",
        "print(f\"The shape of the variable 'prediction_probabilities' is : {prediction_probabilities.shape}\")"
      ],
      "execution_count": 0,
      "outputs": []
    },
    {
      "cell_type": "markdown",
      "metadata": {
        "id": "1OZq78mc0VBU",
        "colab_type": "text"
      },
      "source": [
        "\n",
        "\n",
        "> The shapes of class_predictions and prediction_probabiltites are same. These are the 10000 test data points and the dimensions correspond to 1 vs rest binary (multiclass) probabiltities and the probability of predicting in the class respectively.\n",
        "\n"
      ]
    },
    {
      "cell_type": "markdown",
      "metadata": {
        "colab_type": "text",
        "id": "ygh2yYC972ne"
      },
      "source": [
        "The following functions plot the image and a bar graph of the predicted probabilities. Using these functions, make a plot of the first 25 test images that were incorrectly classified along with their predicted probabilities. Interpret these images - what sort of images tend to be misclassified?"
      ]
    },
    {
      "cell_type": "code",
      "metadata": {
        "id": "iS02fVGLBiOo",
        "colab_type": "code",
        "colab": {}
      },
      "source": [
        "def plot_image(i, predictions_array1, true_label1, img):\n",
        "  fig, axes = plt.subplots(1,25,figsize=(50,5))\n",
        "  \n",
        "  class_mult = np.arange(10)\n",
        "  predictions_array = np.round(predictions_array1,0) * class_mult\n",
        "\n",
        "  for p,ax in enumerate(axes):\n",
        "    true_label = true_label1[i[p]]\n",
        "\n",
        "    m = ax.imshow(img[i[p]], cmap=plt.cm.binary)\n",
        "\n",
        "    ax.grid(False)\n",
        "    ax.set_xticks([])\n",
        "    ax.set_yticks([])\n",
        "\n",
        "    predicted_label = np.argmax(predictions_array[i[p]])\n",
        "    if predicted_label == true_label:\n",
        "      color = 'blue'\n",
        "    else:\n",
        "      color = 'red'\n",
        "\n",
        "    ax.set_xlabel(\"{} {:2.0f}% ({})\".format(class_names[predicted_label],\n",
        "                                  round(100*np.max(predictions_array1[i[p]]),2),\n",
        "                                  class_names[true_label]),\n",
        "                                  color=color)\n",
        "    \n",
        "def plot_value_array(i, predictions_array1, true_label1):\n",
        "  fig, axes = plt.subplots(1,25,figsize=(50,5))\n",
        "  for p,ax in enumerate(axes):\n",
        "    predictions_array, true_label = predictions_array1[i[p]], true_label1[i[p]]\n",
        "    ax.grid(False)\n",
        "\n",
        "\n",
        "    ax.set_xticks(np.arange(10))\n",
        "    ax.set_xticklabels(my_dict.values(),rotation = 90,multialignment='left',linespacing=0.1,minor=False)\n",
        "\n",
        "    ax.set_yticks([])\n",
        "    thisplot = ax.bar(range(10), predictions_array, color=\"#777777\")\n",
        "    #ax.ylim([0, 1])\n",
        "    predicted_label = np.argmax(predictions_array)\n",
        "\n",
        "\n",
        "    thisplot[predicted_label].set_color('red')\n",
        "    thisplot[true_label].set_color('blue')"
      ],
      "execution_count": 0,
      "outputs": []
    },
    {
      "cell_type": "code",
      "metadata": {
        "colab_type": "code",
        "id": "hQlnbqaw2Qu_",
        "colab": {}
      },
      "source": [
        "# Define array with misclassified samples\n",
        "misclassified_samples = np.where(y_pred != y_test)[0]\n",
        "# Take a subset of 25 values to display\n",
        "misclassified_subset = np.where(y_pred != y_test)[0][:25]\n",
        "\n",
        "plot_image(misclassified_subset,prediction_probabilities,test_labels,test_images)\n",
        "plot_value_array(misclassified_subset,prediction_probabilities,test_labels)"
      ],
      "execution_count": 0,
      "outputs": []
    },
    {
      "cell_type": "markdown",
      "metadata": {
        "id": "6Irbl3gcY9k6",
        "colab_type": "text"
      },
      "source": [
        "\n",
        "\n",
        "> Images that do not have a distinct shape to be distinguished from other classes tend to be misclassified. Images of 'Sandal', 'Sneaker' and 'Ankle boots' for example are often miscalssified amongst each other.\n",
        "\n"
      ]
    },
    {
      "cell_type": "markdown",
      "metadata": {
        "id": "0psGf-99Rg0x",
        "colab_type": "text"
      },
      "source": [
        "Plot a confusion matrix of the predictions. Which misclassifications are the most common?"
      ]
    },
    {
      "cell_type": "code",
      "metadata": {
        "id": "YqT-UIEbRc2O",
        "colab_type": "code",
        "colab": {}
      },
      "source": [
        "cm = confusion_matrix(y_test,y_pred)\n",
        "fig, ax = plt.subplots()\n",
        "im = ax.imshow(cm)\n",
        "ax.set_xticks(np.arange(10)), ax.set_yticks(np.arange(10))\n",
        "ax.set_xticklabels(list(my_dict.values()), rotation=45, ha=\"right\")\n",
        "ax.set_yticklabels(list(my_dict.values()))\n",
        "ax.set_ylabel('True')\n",
        "ax.set_xlabel('Predicted')\n",
        "for i in range(100):\n",
        "    ax.text(int(i/10),i%10,cm[i%10,int(i/10)], ha=\"center\", va=\"center\", color=\"w\")"
      ],
      "execution_count": 0,
      "outputs": []
    },
    {
      "cell_type": "markdown",
      "metadata": {
        "id": "hhDsZsZqFIor",
        "colab_type": "text"
      },
      "source": [
        "\n",
        "\n",
        "> Classification of images that are very similar in shape tend to be misclassified. The classes Shirt and Pullover are largely misclassified as T-shirt and Coat respectively due to similarity in shape between them.\n",
        "\n"
      ]
    }
  ]
}