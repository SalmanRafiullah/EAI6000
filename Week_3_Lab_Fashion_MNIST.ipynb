{
  "nbformat": 4,
  "nbformat_minor": 0,
  "metadata": {
    "colab": {
      "name": "Week 3 Lab - Fashion MNIST.ipynb",
      "provenance": [],
      "collapsed_sections": [],
      "toc_visible": true,
      "include_colab_link": true
    },
    "kernelspec": {
      "name": "python3",
      "display_name": "Python 3"
    }
  },
  "cells": [
    {
      "cell_type": "markdown",
      "metadata": {
        "id": "view-in-github",
        "colab_type": "text"
      },
      "source": [
        "<a href=\"https://colab.research.google.com/github/SalmanRafiullah/EAI6000/blob/master/Week_3_Lab_Fashion_MNIST.ipynb\" target=\"_parent\"><img src=\"https://colab.research.google.com/assets/colab-badge.svg\" alt=\"Open In Colab\"/></a>"
      ]
    },
    {
      "cell_type": "markdown",
      "metadata": {
        "colab_type": "text",
        "id": "FbVhjPpzn6BM"
      },
      "source": [
        "In this lab we will train a neural network model to classify images of clothing. \n",
        "\n",
        "The lab is designed to be run using Google Colab, but also can be run as a normal jupyter notebook with minor modifications.\n",
        "\n",
        "This lab uses [tf.keras](https://www.tensorflow.org/guide/keras), a high-level API to build and train models in TensorFlow."
      ]
    },
    {
      "cell_type": "code",
      "metadata": {
        "colab_type": "code",
        "id": "jL3OqFKZ9dFg",
        "outputId": "7afb3e3e-3b89-4a25-b2ff-c2bac2f685f0",
        "colab": {
          "base_uri": "https://localhost:8080/",
          "height": 34
        }
      },
      "source": [
        "try:\n",
        "  # %tensorflow_version only exists in Colab.\n",
        "  %tensorflow_version 2.x\n",
        "except Exception:\n",
        "  pass\n"
      ],
      "execution_count": 1,
      "outputs": [
        {
          "output_type": "stream",
          "text": [
            "TensorFlow 2.x selected.\n"
          ],
          "name": "stdout"
        }
      ]
    },
    {
      "cell_type": "code",
      "metadata": {
        "colab_type": "code",
        "id": "dzLKpmZICaWN",
        "outputId": "2d407f19-5bf2-4952-bdd6-2ac3c08bd637",
        "colab": {
          "base_uri": "https://localhost:8080/",
          "height": 51
        }
      },
      "source": [
        "from __future__ import absolute_import, division, print_function, unicode_literals\n",
        "\n",
        "# TensorFlow and tf.keras\n",
        "import tensorflow as tf\n",
        "from tensorflow import keras\n",
        "\n",
        "# Helper libraries\n",
        "import numpy as np\n",
        "import matplotlib.pyplot as plt\n",
        "from random import randint\n",
        "from keras import utils\n",
        "from sklearn.metrics import confusion_matrix\n",
        "from tensorflow.keras import layers\n",
        "\n",
        "\n",
        "\n",
        "print(tf.__version__)"
      ],
      "execution_count": 2,
      "outputs": [
        {
          "output_type": "stream",
          "text": [
            "Using TensorFlow backend.\n"
          ],
          "name": "stderr"
        },
        {
          "output_type": "stream",
          "text": [
            "2.1.0\n"
          ],
          "name": "stdout"
        }
      ]
    },
    {
      "cell_type": "markdown",
      "metadata": {
        "colab_type": "text",
        "id": "yR0EdgrLCaWR"
      },
      "source": [
        "## Import the Fashion MNIST dataset"
      ]
    },
    {
      "cell_type": "code",
      "metadata": {
        "colab_type": "code",
        "id": "7MqDQO0KCaWS",
        "outputId": "12f1956a-d81b-4627-8b5c-73fa4fd5b517",
        "colab": {
          "base_uri": "https://localhost:8080/",
          "height": 153
        }
      },
      "source": [
        "fashion_mnist = keras.datasets.fashion_mnist\n",
        "\n",
        "(train_images, train_labels), (test_images, test_labels) = fashion_mnist.load_data()\n",
        "\n",
        "class_names = ['T-shirt/top', 'Trouser', 'Pullover', 'Dress', 'Coat',\n",
        "               'Sandal', 'Shirt', 'Sneaker', 'Bag', 'Ankle boot']\n",
        "\n",
        "# Creating a dictionary of classses mapping class numbers to class labels\n",
        "my_dict = dict(zip(np.arange(10),list(class_names)))"
      ],
      "execution_count": 3,
      "outputs": [
        {
          "output_type": "stream",
          "text": [
            "Downloading data from https://storage.googleapis.com/tensorflow/tf-keras-datasets/train-labels-idx1-ubyte.gz\n",
            "32768/29515 [=================================] - 0s 0us/step\n",
            "Downloading data from https://storage.googleapis.com/tensorflow/tf-keras-datasets/train-images-idx3-ubyte.gz\n",
            "26427392/26421880 [==============================] - 0s 0us/step\n",
            "Downloading data from https://storage.googleapis.com/tensorflow/tf-keras-datasets/t10k-labels-idx1-ubyte.gz\n",
            "8192/5148 [===============================================] - 0s 0us/step\n",
            "Downloading data from https://storage.googleapis.com/tensorflow/tf-keras-datasets/t10k-images-idx3-ubyte.gz\n",
            "4423680/4422102 [==============================] - 0s 0us/step\n"
          ],
          "name": "stdout"
        }
      ]
    },
    {
      "cell_type": "markdown",
      "metadata": {
        "colab_type": "text",
        "id": "t9FDsUlxCaWW"
      },
      "source": [
        "Examine the dataset size.\n",
        "1. What are the sizes of each image? \n",
        "2. How many categories are there?\n",
        "3. How many images are there in the test and training sets?\n",
        "4. What are the range of values for the images? "
      ]
    },
    {
      "cell_type": "code",
      "metadata": {
        "colab_type": "code",
        "id": "IjnLH5S2CaWx",
        "outputId": "3b58c3e0-0957-4f48-aa0c-3e11d83f188e",
        "colab": {
          "base_uri": "https://localhost:8080/",
          "height": 34
        }
      },
      "source": [
        "print(f'The size of each image is {train_images[randint(0,60000)].size} with a shape of {train_images[5].shape}.')"
      ],
      "execution_count": 4,
      "outputs": [
        {
          "output_type": "stream",
          "text": [
            "The size of each image is 784 with a shape of (28, 28).\n"
          ],
          "name": "stdout"
        }
      ]
    },
    {
      "cell_type": "code",
      "metadata": {
        "id": "6ZZSjl_xdBA2",
        "colab_type": "code",
        "outputId": "44867798-74a4-4383-920d-51e7a09541ac",
        "colab": {
          "base_uri": "https://localhost:8080/",
          "height": 34
        }
      },
      "source": [
        "print(f'There are {np.unique(train_labels).size} categories.')"
      ],
      "execution_count": 5,
      "outputs": [
        {
          "output_type": "stream",
          "text": [
            "There are 10 categories.\n"
          ],
          "name": "stdout"
        }
      ]
    },
    {
      "cell_type": "code",
      "metadata": {
        "id": "Y6ADqHZJdjPY",
        "colab_type": "code",
        "outputId": "aed0639e-babe-4252-9950-33d82803d5c3",
        "colab": {
          "base_uri": "https://localhost:8080/",
          "height": 51
        }
      },
      "source": [
        "print(f'There are  {len(train_images)} images in the training set.')\n",
        "print(f'There are  {len(test_images)} images in the test set.')\n"
      ],
      "execution_count": 6,
      "outputs": [
        {
          "output_type": "stream",
          "text": [
            "There are  60000 images in the training set.\n",
            "There are  10000 images in the test set.\n"
          ],
          "name": "stdout"
        }
      ]
    },
    {
      "cell_type": "code",
      "metadata": {
        "id": "WLDtOMl7e-jQ",
        "colab_type": "code",
        "outputId": "b6a94327-2083-4c4d-d20f-8cc9b0d1a63f",
        "colab": {
          "base_uri": "https://localhost:8080/",
          "height": 34
        }
      },
      "source": [
        "Val_min, Val_max = np.amin(train_images), np.max(train_images)\n",
        "print(f'The range of the array is from {Val_min} to {Val_max}.')"
      ],
      "execution_count": 7,
      "outputs": [
        {
          "output_type": "stream",
          "text": [
            "The range of the array is from 0 to 255.\n"
          ],
          "name": "stdout"
        }
      ]
    },
    {
      "cell_type": "markdown",
      "metadata": {
        "colab_type": "text",
        "id": "ES6uQoLKCaWr"
      },
      "source": [
        "Preprocess the data by scaling the pixel values of all images to fall between 0 and 1."
      ]
    },
    {
      "cell_type": "code",
      "metadata": {
        "colab_type": "code",
        "id": "bW5WzIPlCaWv",
        "colab": {}
      },
      "source": [
        "# Since values range from 0 to 255, dividing the features by 255 to resize them between 0 and 1\n",
        "x_train = train_images.reshape(60000, 784).astype('float32')/255\n",
        "x_test = test_images.reshape(10000, 784).astype('float32')/255\n",
        "\n",
        "# Converting the dependant variable to float\n",
        "y_train = train_labels.astype('float32')\n",
        "y_test = test_labels.astype('float32')"
      ],
      "execution_count": 0,
      "outputs": []
    },
    {
      "cell_type": "markdown",
      "metadata": {
        "colab_type": "text",
        "id": "Ee638AlnCaWz"
      },
      "source": [
        "To verify that the data is in the correct format  display the first 10 images from the *training set* and display the class name below each image.\n"
      ]
    },
    {
      "cell_type": "code",
      "metadata": {
        "colab_type": "code",
        "id": "oZTImqg_CaW1",
        "outputId": "d9e0db92-1209-4d04-f541-f61d548fea29",
        "colab": {
          "base_uri": "https://localhost:8080/",
          "height": 163
        }
      },
      "source": [
        "fig, axes = plt.subplots(1,10, figsize=(25,10))\n",
        "for i in range(10):\n",
        "  axes[i].imshow(x_train[i].reshape(28,28), cmap=plt.cm.gray_r)\n",
        "  axes[i].set_xlabel(class_names[int(train_labels[i])])\n",
        "  axes[i].set_xticks(())\n",
        "  axes[i].set_yticks(())\n",
        "plt.show()"
      ],
      "execution_count": 9,
      "outputs": [
        {
          "output_type": "display_data",
          "data": {
            "image/png": "[encoded data removed]",
            "text/plain": [
              "<Figure size 1800x720 with 10 Axes>"
            ]
          },
          "metadata": {
            "tags": []
          }
        }
      ]
    },
    {
      "cell_type": "markdown",
      "metadata": {
        "colab_type": "text",
        "id": "59veuiEZCaW4"
      },
      "source": [
        "## Build the model\n",
        "\n",
        "Using Keras, build a neural network with a single hidden layer consisting of 64 neurons. Remember that you will either have to reshape the image data into 1D vectors, or use a flatten layer at the input.\n",
        "1. Set up the model layers\n",
        "2. Compile the model \n",
        "3. Print the model summary"
      ]
    },
    {
      "cell_type": "code",
      "metadata": {
        "colab_type": "code",
        "id": "9ODch-OFCaW4",
        "colab": {}
      },
      "source": [
        "inputs = keras.Input(shape=(784,), name='digits')\n",
        "x = layers.Dense(64, activation='relu', name='dense_1')(inputs)\n",
        "x = layers.Dense(64, activation='relu', name='dense_2')(x)\n",
        "outputs = layers.Dense(10, name='predictions')(x)\n",
        "\n",
        "model = keras.Model(inputs=inputs, outputs=outputs)"
      ],
      "execution_count": 0,
      "outputs": []
    },
    {
      "cell_type": "code",
      "metadata": {
        "colab_type": "code",
        "id": "Lhan11blCaW7",
        "colab": {}
      },
      "source": [
        "model.compile(optimizer=keras.optimizers.RMSprop(),\n",
        "              loss=keras.losses.SparseCategoricalCrossentropy(from_logits=True),\n",
        "              metrics=['sparse_categorical_accuracy'])"
      ],
      "execution_count": 0,
      "outputs": []
    },
    {
      "cell_type": "code",
      "metadata": {
        "id": "D_6kqD9la-wb",
        "colab_type": "code",
        "outputId": "09993af1-4116-4e63-b110-d2feacb64d69",
        "colab": {
          "base_uri": "https://localhost:8080/",
          "height": 289
        }
      },
      "source": [
        "model.summary()"
      ],
      "execution_count": 12,
      "outputs": [
        {
          "output_type": "stream",
          "text": [
            "Model: \"model\"\n",
            "_________________________________________________________________\n",
            "Layer (type)                 Output Shape              Param #   \n",
            "=================================================================\n",
            "digits (InputLayer)          [(None, 784)]             0         \n",
            "_________________________________________________________________\n",
            "dense_1 (Dense)              (None, 64)                50240     \n",
            "_________________________________________________________________\n",
            "dense_2 (Dense)              (None, 64)                4160      \n",
            "_________________________________________________________________\n",
            "predictions (Dense)          (None, 10)                650       \n",
            "=================================================================\n",
            "Total params: 55,050\n",
            "Trainable params: 55,050\n",
            "Non-trainable params: 0\n",
            "_________________________________________________________________\n"
          ],
          "name": "stdout"
        }
      ]
    },
    {
      "cell_type": "markdown",
      "metadata": {
        "colab_type": "text",
        "id": "qKF6uW-BCaW-"
      },
      "source": [
        "## Train the model\n",
        "\n",
        "Train the model on the training images for 20 epochs.\n",
        "\n",
        "\n"
      ]
    },
    {
      "cell_type": "code",
      "metadata": {
        "colab_type": "code",
        "id": "xvwvpA64CaW_",
        "colab": {
          "base_uri": "https://localhost:8080/",
          "height": 785
        },
        "outputId": "15e7aad6-703c-4b90-a949-49a73642bd51"
      },
      "source": [
        "print('# Fit model on training data')\n",
        "history = model.fit(x_train, y_train,\n",
        "                    batch_size=64,\n",
        "                    epochs=20)\n",
        "\n",
        "print('\\nhistory dict:', history.history)"
      ],
      "execution_count": 13,
      "outputs": [
        {
          "output_type": "stream",
          "text": [
            "# Fit model on training data\n",
            "Train on 60000 samples\n",
            "Epoch 1/20\n",
            "60000/60000 [==============================] - 3s 53us/sample - loss: 0.5501 - sparse_categorical_accuracy: 0.8053\n",
            "Epoch 2/20\n",
            "60000/60000 [==============================] - 2s 41us/sample - loss: 0.3886 - sparse_categorical_accuracy: 0.8589\n",
            "Epoch 3/20\n",
            "60000/60000 [==============================] - 2s 40us/sample - loss: 0.3527 - sparse_categorical_accuracy: 0.8718\n",
            "Epoch 4/20\n",
            "60000/60000 [==============================] - 2s 41us/sample - loss: 0.3295 - sparse_categorical_accuracy: 0.8808\n",
            "Epoch 5/20\n",
            "60000/60000 [==============================] - 3s 42us/sample - loss: 0.3113 - sparse_categorical_accuracy: 0.8852\n",
            "Epoch 6/20\n",
            "60000/60000 [==============================] - 3s 43us/sample - loss: 0.3003 - sparse_categorical_accuracy: 0.8901\n",
            "Epoch 7/20\n",
            "60000/60000 [==============================] - 3s 43us/sample - loss: 0.2906 - sparse_categorical_accuracy: 0.8940\n",
            "Epoch 8/20\n",
            "60000/60000 [==============================] - 3s 43us/sample - loss: 0.2804 - sparse_categorical_accuracy: 0.8966\n",
            "Epoch 9/20\n",
            "60000/60000 [==============================] - 3s 43us/sample - loss: 0.2720 - sparse_categorical_accuracy: 0.8994\n",
            "Epoch 10/20\n",
            "60000/60000 [==============================] - 3s 42us/sample - loss: 0.2643 - sparse_categorical_accuracy: 0.9025\n",
            "Epoch 11/20\n",
            "60000/60000 [==============================] - 2s 42us/sample - loss: 0.2594 - sparse_categorical_accuracy: 0.9031\n",
            "Epoch 12/20\n",
            "60000/60000 [==============================] - 2s 41us/sample - loss: 0.2537 - sparse_categorical_accuracy: 0.9070\n",
            "Epoch 13/20\n",
            "60000/60000 [==============================] - 3s 43us/sample - loss: 0.2472 - sparse_categorical_accuracy: 0.9091\n",
            "Epoch 14/20\n",
            "60000/60000 [==============================] - 3s 44us/sample - loss: 0.2418 - sparse_categorical_accuracy: 0.9095\n",
            "Epoch 15/20\n",
            "60000/60000 [==============================] - 3s 43us/sample - loss: 0.2381 - sparse_categorical_accuracy: 0.9121\n",
            "Epoch 16/20\n",
            "60000/60000 [==============================] - 2s 41us/sample - loss: 0.2348 - sparse_categorical_accuracy: 0.9129\n",
            "Epoch 17/20\n",
            "60000/60000 [==============================] - 3s 42us/sample - loss: 0.2303 - sparse_categorical_accuracy: 0.9148\n",
            "Epoch 18/20\n",
            "60000/60000 [==============================] - 2s 42us/sample - loss: 0.2268 - sparse_categorical_accuracy: 0.9160\n",
            "Epoch 19/20\n",
            "60000/60000 [==============================] - 2s 41us/sample - loss: 0.2230 - sparse_categorical_accuracy: 0.9178\n",
            "Epoch 20/20\n",
            "60000/60000 [==============================] - 3s 42us/sample - loss: 0.2216 - sparse_categorical_accuracy: 0.9183\n",
            "\n",
            "history dict: {'loss': [0.5501108894348145, 0.38859761198361714, 0.352741216246287, 0.3295113156278928, 0.31132472549676893, 0.30027749625047045, 0.29064736643632255, 0.2803852388302485, 0.2719968786080678, 0.2643192556381226, 0.2593727036992709, 0.2537254029194514, 0.24721511460940043, 0.24177758311033248, 0.2380603370666504, 0.2348141468803088, 0.23025083000262578, 0.22678501252333322, 0.22297197006146113, 0.221552949655056], 'sparse_categorical_accuracy': [0.8053, 0.8589333, 0.8718333, 0.8807833, 0.88518333, 0.8900667, 0.8939667, 0.8966, 0.8993667, 0.90253335, 0.90313333, 0.9070333, 0.9090833, 0.9094833, 0.91211665, 0.9129, 0.9148167, 0.91601664, 0.9177667, 0.91831666]}\n"
          ],
          "name": "stdout"
        }
      ]
    },
    {
      "cell_type": "markdown",
      "metadata": {
        "colab_type": "text",
        "id": "wCpr6DGyE28h"
      },
      "source": [
        "Evaluate the accuracy of the model on the test dataset. How does it compare with the training accuracy? Is it likely overfitting or underfitting?"
      ]
    },
    {
      "cell_type": "code",
      "metadata": {
        "colab_type": "code",
        "id": "VflXLEeECaXC",
        "colab": {
          "base_uri": "https://localhost:8080/",
          "height": 85
        },
        "outputId": "356a1195-f51d-4aa2-8449-f72f9e047b14"
      },
      "source": [
        "print('# Accuracy of model on test dataset\\n')\n",
        "results = model.evaluate(x_test,y_test,batch_size=64)\n",
        "print(results)"
      ],
      "execution_count": 14,
      "outputs": [
        {
          "output_type": "stream",
          "text": [
            "# Accuracy of model on test dataset\n",
            "\n",
            "10000/10000 [==============================] - 0s 31us/sample - loss: 0.4530 - sparse_categorical_accuracy: 0.8631\n",
            "[0.4529523473739624, 0.8631]\n"
          ],
          "name": "stdout"
        }
      ]
    },
    {
      "cell_type": "markdown",
      "metadata": {
        "colab_type": "text",
        "id": "yWfgsmVXCaXG"
      },
      "source": [
        "\n",
        "\n",
        "> The model has a lower accuracy and a higher loss on the test dataset than the training dataset. The model is likely overfitting on the training dataset.\n"
      ]
    },
    {
      "cell_type": "code",
      "metadata": {
        "id": "JTzXlkXUIG68",
        "colab_type": "code",
        "colab": {
          "base_uri": "https://localhost:8080/",
          "height": 853
        },
        "outputId": "e8b81cea-fd77-4e0a-cb09-2853e88275f0"
      },
      "source": [
        "# Re train the model with dropout to avoid overfitting and have equal accuracy and loss in training and test datasets\n",
        "inputs = keras.Input(shape=(784,), name='digits')\n",
        "x = layers.Dense(64, activation='relu', name='dense_11')(inputs)\n",
        "# Setting dropout as 0.4 after iteratively running the model for various values\n",
        "x = layers.Dropout(0.4)(x)\n",
        "x = layers.Dense(64, activation='relu', name='dense_21')(x)\n",
        "x = layers.Dropout(0.4)(x)\n",
        "outputs = layers.Dense(10, name='predictions')(x)\n",
        "model1 = keras.Model(inputs=inputs, outputs=outputs)\n",
        "\n",
        "model1.compile(optimizer=keras.optimizers.RMSprop(),\n",
        "              loss=keras.losses.SparseCategoricalCrossentropy(from_logits=True),\n",
        "              metrics=['sparse_categorical_accuracy'])\n",
        "\n",
        "history = model1.fit(x_train, y_train,\n",
        "                    batch_size=64,\n",
        "                    epochs=20)\n",
        "print(f'\\n {history.history}')\n",
        "\n",
        "print('\\n# Accuracy of model on test dataset\\n')\n",
        "results = model1.evaluate(x_test,y_test,batch_size=64)\n",
        "print(results)"
      ],
      "execution_count": 15,
      "outputs": [
        {
          "output_type": "stream",
          "text": [
            "Train on 60000 samples\n",
            "Epoch 1/20\n",
            "60000/60000 [==============================] - 3s 56us/sample - loss: 0.7942 - sparse_categorical_accuracy: 0.7191\n",
            "Epoch 2/20\n",
            "60000/60000 [==============================] - 3s 47us/sample - loss: 0.5509 - sparse_categorical_accuracy: 0.8074\n",
            "Epoch 3/20\n",
            "60000/60000 [==============================] - 3s 47us/sample - loss: 0.5100 - sparse_categorical_accuracy: 0.8249\n",
            "Epoch 4/20\n",
            "60000/60000 [==============================] - 3s 46us/sample - loss: 0.4950 - sparse_categorical_accuracy: 0.8319\n",
            "Epoch 5/20\n",
            "60000/60000 [==============================] - 3s 43us/sample - loss: 0.4851 - sparse_categorical_accuracy: 0.8362\n",
            "Epoch 6/20\n",
            "60000/60000 [==============================] - 3s 44us/sample - loss: 0.4755 - sparse_categorical_accuracy: 0.8384\n",
            "Epoch 7/20\n",
            "60000/60000 [==============================] - 3s 44us/sample - loss: 0.4711 - sparse_categorical_accuracy: 0.8435\n",
            "Epoch 8/20\n",
            "60000/60000 [==============================] - 3s 44us/sample - loss: 0.4729 - sparse_categorical_accuracy: 0.8424\n",
            "Epoch 9/20\n",
            "60000/60000 [==============================] - 3s 43us/sample - loss: 0.4646 - sparse_categorical_accuracy: 0.8437\n",
            "Epoch 10/20\n",
            "60000/60000 [==============================] - 3s 43us/sample - loss: 0.4684 - sparse_categorical_accuracy: 0.8449\n",
            "Epoch 11/20\n",
            "60000/60000 [==============================] - 3s 42us/sample - loss: 0.4683 - sparse_categorical_accuracy: 0.8438\n",
            "Epoch 12/20\n",
            "60000/60000 [==============================] - 3s 44us/sample - loss: 0.4686 - sparse_categorical_accuracy: 0.8451\n",
            "Epoch 13/20\n",
            "60000/60000 [==============================] - 3s 45us/sample - loss: 0.4666 - sparse_categorical_accuracy: 0.8452\n",
            "Epoch 14/20\n",
            "60000/60000 [==============================] - 3s 45us/sample - loss: 0.4680 - sparse_categorical_accuracy: 0.8490\n",
            "Epoch 15/20\n",
            "60000/60000 [==============================] - 3s 45us/sample - loss: 0.4685 - sparse_categorical_accuracy: 0.8456\n",
            "Epoch 16/20\n",
            "60000/60000 [==============================] - 3s 44us/sample - loss: 0.4700 - sparse_categorical_accuracy: 0.8460\n",
            "Epoch 17/20\n",
            "60000/60000 [==============================] - 3s 43us/sample - loss: 0.4694 - sparse_categorical_accuracy: 0.8477\n",
            "Epoch 18/20\n",
            "60000/60000 [==============================] - 3s 44us/sample - loss: 0.4701 - sparse_categorical_accuracy: 0.8472\n",
            "Epoch 19/20\n",
            "60000/60000 [==============================] - 3s 45us/sample - loss: 0.4712 - sparse_categorical_accuracy: 0.8504\n",
            "Epoch 20/20\n",
            "60000/60000 [==============================] - 3s 44us/sample - loss: 0.4671 - sparse_categorical_accuracy: 0.8488\n",
            "\n",
            " {'loss': [0.7941503361701965, 0.5509445703665415, 0.5099551129500072, 0.49496938036282856, 0.48513249921798707, 0.47553443290392555, 0.47112113434473674, 0.4728723705927531, 0.4646094850699107, 0.4684227667649587, 0.46826656379699705, 0.46859097522099813, 0.4666113904794057, 0.46795065337816877, 0.46848279101053875, 0.4699968952178955, 0.46939358247121177, 0.47013374350865683, 0.4712388651529948, 0.46711506940523784], 'sparse_categorical_accuracy': [0.7191167, 0.8074, 0.82491666, 0.8319333, 0.8362, 0.8384333, 0.84351665, 0.8423667, 0.8437167, 0.8449, 0.8438, 0.8451167, 0.8452167, 0.849, 0.8455667, 0.84596664, 0.8476833, 0.84721667, 0.85035, 0.8488333]}\n",
            "\n",
            "# Accuracy of model on test dataset\n",
            "\n",
            "10000/10000 [==============================] - 0s 31us/sample - loss: 0.4920 - sparse_categorical_accuracy: 0.8552\n",
            "[0.4920301264286041, 0.8552]\n"
          ],
          "name": "stdout"
        }
      ]
    },
    {
      "cell_type": "markdown",
      "metadata": {
        "colab_type": "text",
        "id": "v-PyD1SYE28q"
      },
      "source": [
        "## Make predictions\n",
        "\n",
        "The outputs layer of the model contains predictions about the classification for each image. "
      ]
    },
    {
      "cell_type": "code",
      "metadata": {
        "colab_type": "code",
        "id": "DnfNA0CrQLSD",
        "colab": {}
      },
      "source": [
        "probability_model = tf.keras.Sequential([model1, tf.keras.layers.Softmax()])\n",
        "class_predictions = model1.predict(x_test)\n",
        "prediction_probabilities = probability_model.predict(x_test)\n",
        "y_pred = np.argmax(class_predictions,axis=-1)"
      ],
      "execution_count": 0,
      "outputs": []
    },
    {
      "cell_type": "markdown",
      "metadata": {
        "colab_type": "text",
        "id": "x9Kk1voUCaXJ"
      },
      "source": [
        "Examine the shape of the variable 'prediction_probabilities'. How is it different from class_predictions? What do the dimensions correspond to?"
      ]
    },
    {
      "cell_type": "code",
      "metadata": {
        "id": "MNQrlYsXk9y2",
        "colab_type": "code",
        "colab": {
          "base_uri": "https://localhost:8080/",
          "height": 51
        },
        "outputId": "3ae5cf2a-8cc0-40d4-f2bb-2eb9a78f8958"
      },
      "source": [
        "print(f'The shape of class_predictions is : {class_predictions.shape}')\n",
        "print(f\"The shape of the variable 'prediction_probabilities' is : {prediction_probabilities.shape}\")"
      ],
      "execution_count": 17,
      "outputs": [
        {
          "output_type": "stream",
          "text": [
            "The shape of class_predictions is : (10000, 10)\n",
            "The shape of the variable 'prediction_probabilities' is : (10000, 10)\n"
          ],
          "name": "stdout"
        }
      ]
    },
    {
      "cell_type": "markdown",
      "metadata": {
        "id": "1OZq78mc0VBU",
        "colab_type": "text"
      },
      "source": [
        "\n",
        "\n",
        "> The shapes of class_predictions and prediction_probabiltites are same. These are the 10000 test data points and the dimensions correspond to 1 vs rest binary (multiclass) probabiltities and the probability of predicting in the class respectively.\n",
        "\n"
      ]
    },
    {
      "cell_type": "markdown",
      "metadata": {
        "colab_type": "text",
        "id": "ygh2yYC972ne"
      },
      "source": [
        "The following functions plot the image and a bar graph of the predicted probabilities. Using these functions, make a plot of the first 25 test images that were incorrectly classified along with their predicted probabilities. Interpret these images - what sort of images tend to be misclassified?"
      ]
    },
    {
      "cell_type": "code",
      "metadata": {
        "id": "iS02fVGLBiOo",
        "colab_type": "code",
        "colab": {}
      },
      "source": [
        "def plot_image(i, predictions_array1, true_label1, img):\n",
        "  fig, axes = plt.subplots(1,25,figsize=(50,5))\n",
        "  \n",
        "  class_mult = np.arange(10)\n",
        "  predictions_array = np.round(predictions_array1,0) * class_mult\n",
        "\n",
        "  for p,ax in enumerate(axes):\n",
        "    true_label = true_label1[i[p]]\n",
        "\n",
        "    m = ax.imshow(img[i[p]], cmap=plt.cm.binary)\n",
        "\n",
        "    ax.grid(False)\n",
        "    ax.set_xticks([])\n",
        "    ax.set_yticks([])\n",
        "\n",
        "    predicted_label = np.argmax(predictions_array[i[p]])\n",
        "    if predicted_label == true_label:\n",
        "      color = 'blue'\n",
        "    else:\n",
        "      color = 'red'\n",
        "\n",
        "    ax.set_xlabel(\"{} {:2.0f}% ({})\".format(class_names[predicted_label],\n",
        "                                  round(100*np.max(predictions_array1[i[p]]),2),\n",
        "                                  class_names[true_label]),\n",
        "                                  color=color)\n",
        "    \n",
        "def plot_value_array(i, predictions_array1, true_label1):\n",
        "  fig, axes = plt.subplots(1,25,figsize=(50,5))\n",
        "  for p,ax in enumerate(axes):\n",
        "    predictions_array, true_label = predictions_array1[i[p]], true_label1[i[p]]\n",
        "    ax.grid(False)\n",
        "\n",
        "\n",
        "    ax.set_xticks(np.arange(10))\n",
        "    ax.set_xticklabels(my_dict.values(),rotation = 90,multialignment='left',linespacing=0.1,minor=False)\n",
        "\n",
        "    ax.set_yticks([])\n",
        "    thisplot = ax.bar(range(10), predictions_array, color=\"#777777\")\n",
        "    #ax.ylim([0, 1])\n",
        "    predicted_label = np.argmax(predictions_array)\n",
        "\n",
        "\n",
        "    thisplot[predicted_label].set_color('red')\n",
        "    thisplot[true_label].set_color('blue')"
      ],
      "execution_count": 0,
      "outputs": []
    },
    {
      "cell_type": "code",
      "metadata": {
        "colab_type": "code",
        "id": "hQlnbqaw2Qu_",
        "colab": {
          "base_uri": "https://localhost:8080/",
          "height": 505
        },
        "outputId": "026cde74-d6df-4c62-c122-77b9708127f8"
      },
      "source": [
        "# Take a subset of 25 values to display\n",
        "misclassified_subset = np.where(y_pred != y_test)[0][:25]\n",
        "\n",
        "plot_image(misclassified_subset,prediction_probabilities,test_labels,test_images)\n",
        "plot_value_array(misclassified_subset,prediction_probabilities,test_labels)"
      ],
      "execution_count": 19,
      "outputs": [
        {
          "output_type": "display_data",
          "data": {
            "image/png": "[encoded data removed]",
            "text/plain": [
              "<Figure size 3600x360 with 25 Axes>"
            ]
          },
          "metadata": {
            "tags": []
          }
        },
        {
          "output_type": "display_data",
          "data": {
            "image/png": "[encoded data removed]",
            "text/plain": [
              "<Figure size 3600x360 with 25 Axes>"
            ]
          },
          "metadata": {
            "tags": []
          }
        }
      ]
    },
    {
      "cell_type": "markdown",
      "metadata": {
        "id": "6Irbl3gcY9k6",
        "colab_type": "text"
      },
      "source": [
        "\n",
        "\n",
        "> Images that do not have a distinct shape to be distinguished from other classes tend to be misclassified. Images of 'Sandal', 'Sneaker' and 'Ankle boots' for example are often miscalssified amongst each other.\n",
        "\n"
      ]
    },
    {
      "cell_type": "markdown",
      "metadata": {
        "id": "0psGf-99Rg0x",
        "colab_type": "text"
      },
      "source": [
        "Plot a confusion matrix of the predictions. Which misclassifications are the most common?"
      ]
    },
    {
      "cell_type": "code",
      "metadata": {
        "id": "YqT-UIEbRc2O",
        "colab_type": "code",
        "colab": {
          "base_uri": "https://localhost:8080/",
          "height": 314
        },
        "outputId": "ae518392-bb7b-4975-f7b7-add9d325743d"
      },
      "source": [
        "cm = confusion_matrix(y_test,y_pred)\n",
        "fig, ax = plt.subplots()\n",
        "im = ax.imshow(cm)\n",
        "ax.set_xticks(np.arange(10)), ax.set_yticks(np.arange(10))\n",
        "ax.set_xticklabels(list(my_dict.values()), rotation=45, ha=\"right\")\n",
        "ax.set_yticklabels(list(my_dict.values()))\n",
        "ax.set_ylabel('True')\n",
        "ax.set_xlabel('Predicted')\n",
        "for i in range(100):\n",
        "    ax.text(int(i/10),i%10,cm[i%10,int(i/10)], ha=\"center\", va=\"center\", color=\"w\")"
      ],
      "execution_count": 20,
      "outputs": [
        {
          "output_type": "display_data",
          "data": {
            "image/png": "[encoded data removed]",
            "text/plain": [
              "<Figure size 432x288 with 1 Axes>"
            ]
          },
          "metadata": {
            "tags": []
          }
        }
      ]
    },
    {
      "cell_type": "markdown",
      "metadata": {
        "id": "hhDsZsZqFIor",
        "colab_type": "text"
      },
      "source": [
        "\n",
        "\n",
        "> Classification of images that are very similar in shape tend to be misclassified. The classes Shirt and Pullover are largely misclassified as T-shirt and Coat respectively due to similarity in shape between them.\n",
        "\n"
      ]
    }
  ]
}